{
 "cells": [
  {
   "cell_type": "code",
   "execution_count": null,
   "id": "cfcb4ff4",
   "metadata": {},
   "outputs": [],
   "source": [
    "import matplotlib.pyplot as plt\n",
    "import seaborn as sns\n",
    "import numpy as np\n",
    "\n",
    "teams = ['Liverpool', 'Chelsea', 'Newcastle', 'Man City', 'Arsenal', 'Aston Villa', 'Brighton', 'Spurs', 'Brentford', 'Everton', 'Man United', 'West Ham', 'Bournemouth', 'Wolves', 'Crystal Palace', 'Fulham', 'Forest', 'Luton Town', 'Burnley', 'Sheffield']\n",
    "xG = [44.9, 39.9, 39.7, 37.4, 37.2, 36.7, 35.7, 35.5, 33.8, 30.5, 29.3, 28.0, 27.4, 27.2, 24.9, 24.7, 24.0, 19.7, 17.6, 16.5]\n",
    "goals_scored = [43, 34, 39, 45, 37, 43, 38, 42, 26, 24, 22, 33, 28, 30, 22, 28, 24, 23, 20, 15]\n",
    "\n",
    "deviation = np.array(goals_scored) - np.array(xG)\n",
    "\n",
    "formatted_xG = [\"{:.2f}\".format(val) for val in xG]\n",
    "formatted_goals_scored = [format(val) for val in goals_scored]\n",
    "formatted_deviation = [\"{:.2f}\".format(val) for val in deviation]\n",
    "\n",
    "data = np.array([formatted_xG, formatted_goals_scored, formatted_deviation], dtype=float)\n",
    "\n",
    "sns.set(style=\"dark\", font_scale=1.2)\n",
    "\n",
    "plt.figure(figsize=(17, 6), facecolor='black')\n",
    "heatmap = sns.heatmap(data, annot=True, cmap='viridis_r', fmt=\".2f\", linewidths=.5, annot_kws={\"size\": 12}, yticklabels=['xG', 'Goals Scored', 'Deviation'], xticklabels=teams, cbar=False)\n",
    "\n",
    "plt.xticks(rotation=45, ha='right', color='white')\n",
    "\n",
    "for i, team in enumerate(teams):\n",
    "    plt.annotate('', xy=(i + 0.5, 3.1), xytext=(i + 0.5, 3.4),\n",
    "                 arrowprops=dict(facecolor='white', alpha=0.7))\n",
    "\n",
    "heatmap.set_yticklabels(heatmap.get_yticklabels(), color='white')\n",
    "plt.title('xG vs Goals Scored\\nPremier League 2023-24 \\n\\n', color='White', size=18)\n",
    "plt.savefig('premier_league_analysis.png')\n",
    "plt.show()"
   ]
  }
 ],
 "metadata": {
  "kernelspec": {
   "display_name": "Python 3",
   "language": "python",
   "name": "python3"
  },
  "language_info": {
   "codemirror_mode": {
    "name": "ipython",
    "version": 3
   },
   "file_extension": ".py",
   "mimetype": "text/x-python",
   "name": "python",
   "nbconvert_exporter": "python",
   "pygments_lexer": "ipython3",
   "version": "3.10.9"
  }
 },
 "nbformat": 4,
 "nbformat_minor": 5
}
